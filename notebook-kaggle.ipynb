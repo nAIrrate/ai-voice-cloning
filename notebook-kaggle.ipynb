{
 "metadata": {
  "kernelspec": {
   "language": "python",
   "display_name": "Python 3",
   "name": "python3"
  },
  "language_info": {
   "pygments_lexer": "ipython3",
   "nbconvert_exporter": "python",
   "version": "3.6.4",
   "file_extension": ".py",
   "codemirror_mode": {
    "name": "ipython",
    "version": 3
   },
   "name": "python",
   "mimetype": "text/x-python"
  }
 },
 "nbformat_minor": 4,
 "nbformat": 4,
 "cells": [
  {
   "cell_type": "code",
   "source": [
    "## Initialization"
   ],
   "metadata": {
    "id": "ni41hmE03DL6",
    "trusted": true
   },
   "execution_count": null,
   "outputs": []
  },
  {
   "cell_type": "code",
   "source": [
    "#load secrets\n",
    "from kaggle_secrets import UserSecretsClient\n",
    "user_secrets = UserSecretsClient()\n",
    "repo_token = user_secrets.get_secret(\"nAIrrate Kaggle Token\")\n",
    "sftpPass = user_secrets.get_secret(\"sftpPass\")\n",
    "sftpUser = user_secrets.get_secret(\"sftpUser\")\n",
    "sftpUrl = \"sftp://spottenn.com\"\n",
    "inputFolder = \"new\" \n",
    "processingFolder = \"processing\"\n",
    "completeFolder = \"complete\"\n",
    "completeAudio = \"completeAudio\"\n"
   ],
   "metadata": {
    "trusted": true
   },
   "execution_count": null,
   "outputs": []
  },
  {
   "cell_type": "code",
   "source": [
    "# !apt install python3.10-venv\n",
    "\n",
    "# Set the Github URL and the corresponding URL with the token\n",
    "github_url = \"https://github.com/spottenn/\"\n",
    "github_url_with_token = f\"https://{repo_token}@github.com/spottenn/\"\n",
    "\n",
    "# Configure Git\n",
    "!git config --global url.\"https://{repo_token}@github.com/spottenn/\".insteadOf \"https://github.com/spottenn/\"\n",
    "!git clone \"https://github.com/spottenn/ai-voice-cloning\""
   ],
   "metadata": {
    "id": "FtsMKKfH18iM",
    "trusted": true
   },
   "execution_count": null,
   "outputs": []
  },
  {
   "cell_type": "code",
   "source": [
    "%cd /kaggle/working/ai-voice-cloning\n",
    "\n",
    "!./setup-cuda.sh"
   ],
   "metadata": {
    "id": "FtsMKKfH18iM",
    "trusted": true
   },
   "execution_count": null,
   "outputs": []
  },
  {
   "cell_type": "code",
   "source": [
    "!cp -r /kaggle/working/ai-voice-cloning/modules/tortoise-tts/tortoise/voices/* /kaggle/working/ai-voice-cloning/voices"
   ],
   "metadata": {
    "trusted": true
   },
   "execution_count": null,
   "outputs": []
  },
  {
   "cell_type": "markdown",
   "source": [
    "# Update Repos"
   ],
   "metadata": {
    "id": "IzrGt5IcHlAD"
   }
  },
  {
   "cell_type": "code",
   "source": [
    "# for my debugging purposes\n",
    "# %cd ./ai-voice-cloning/\n",
    "!./update.sh\n"
   ],
   "metadata": {
    "id": "3DktoOXSHmtw",
    "trusted": true
   },
   "execution_count": null,
   "outputs": []
  },
  {
   "cell_type": "markdown",
   "source": [
    "# Mount Drive"
   ],
   "metadata": {
    "id": "2Y4t9zDIZMTg"
   }
  },
  {
   "cell_type": "code",
   "source": [
    "# only run once, this will save all userdata to your Drive\n",
    "# it shouldn't delete through symlinks, but you never know\n",
    "\n",
    "# from google.colab import drive\n",
    "\n",
    "# %cd /content/ai-voice-cloning\n",
    "# drive.flush_and_unmount()\n",
    "# !rm -r ./{training,results,voices,config}\n",
    "# drive.mount('/content/drive')\n",
    "# !mkdir /content/drive/MyDrive/ai-voice-cloning/\n",
    "# !mv /content/drive/MyDrive/{training,results,voices,config} /content/drive/MyDrive/ai-voice-cloning\n",
    "# !mkdir /content/drive/MyDrive/ai-voice-cloning/{training,results,voices,config}\n",
    "# !ln -s /content/drive/MyDrive/ai-voice-cloning/{training,results,voices,config} ./"
   ],
   "metadata": {
    "id": "SGt9gyvubveT",
    "trusted": true
   },
   "execution_count": null,
   "outputs": []
  },
  {
   "cell_type": "markdown",
   "source": [
    "## Running"
   ],
   "metadata": {
    "id": "EM3iNqgJF6Be"
   }
  },
  {
   "cell_type": "code",
   "source": [
    "%cd /kaggle/working/ai-voice-cloning/\n",
    "!./start.sh --share"
   ],
   "metadata": {
    "id": "QRA8jF3cF-YJ",
    "execution": {
     "iopub.status.busy": "2023-07-26T21:18:59.760934Z",
     "iopub.execute_input": "2023-07-26T21:18:59.761643Z"
    },
    "trusted": true
   },
   "execution_count": null,
   "outputs": []
  },
  {
   "cell_type": "markdown",
   "source": [
    "# Restart Runtime"
   ],
   "metadata": {
    "id": "vH9KU7SMGDxb"
   }
  },
  {
   "cell_type": "code",
   "source": [
    "# exit()"
   ],
   "metadata": {
    "id": "EWeyUPvgGDX5",
    "trusted": true
   },
   "execution_count": null,
   "outputs": []
  },
  {
   "cell_type": "markdown",
   "source": [
    "# Fallback Training"
   ],
   "metadata": {
    "id": "ggLY9A9KA21D"
   }
  },
  {
   "cell_type": "code",
   "source": [
    "# This is in case you can't get training through the web UI\n",
    "# %cd /content/ai-voice-cloning\n",
    "# !python ./dlas/codes/train.py -opt ./training/finetune.yaml"
   ],
   "metadata": {
    "id": "-KayB8klA5tY",
    "trusted": true
   },
   "execution_count": null,
   "outputs": []
  },
  {
   "cell_type": "markdown",
   "source": [
    "## Exporting"
   ],
   "metadata": {
    "id": "2AnVQxEJx47p"
   }
  },
  {
   "cell_type": "code",
   "source": [
    "# if you're not using drive mounting\n",
    "# %cd /content/ai-voice-cloning\n",
    "# !apt install -y p7zip-full\n",
    "from datetime import datetime\n",
    "timestamp = datetime.now().strftime('%m-%d-%Y_%H:%M:%S')\n",
    "!mkdir -p \"../{timestamp}/results\"\n",
    "!mkdir -p \"../{timestamp}/config\"\n",
    "# !mkdir -p \"../{timestamp}/training\"\n",
    "!cp -r ./results/* \"../{timestamp}/results/.\"\n",
    "!cp -r ./config/* \"../{timestamp}/config/.\"\n",
    "# !cp -r ./training/* \"../{timestamp}/training/.\"\n",
    "!7z a -t7z -m0=lzma2 -mx=9 -mfb=64 -md=32m -ms=on \"../{timestamp}.7z\" \"../{timestamp}/\"\n",
    "!ls ~/\n",
    "!echo \"Finished zipping, archive is available at {timestamp}.7z\""
   ],
   "metadata": {
    "id": "YOACiDCXx72G",
    "trusted": true
   },
   "execution_count": null,
   "outputs": []
  }
 ]
}
